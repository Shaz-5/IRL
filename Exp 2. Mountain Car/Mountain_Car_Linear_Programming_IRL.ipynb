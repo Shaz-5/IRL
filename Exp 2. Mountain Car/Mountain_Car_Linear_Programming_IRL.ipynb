{
 "cells": [
  {
   "cell_type": "markdown",
   "metadata": {},
   "source": [
    "# Mountain Car"
   ]
  },
  {
   "cell_type": "code",
   "execution_count": 1,
   "metadata": {
    "id": "nnOSS5IiuJ84"
   },
   "outputs": [],
   "source": [
    "import pickle,random\n",
    "import numpy as np\n",
    "import gym\n",
    "from scipy.optimize import linprog\n",
    "from math import exp,pi,sqrt\n",
    "import matplotlib.pyplot as plt\n",
    "from tqdm import tqdm\n",
    "import mountain_car_functions as mc_funcs"
   ]
  },
  {
   "cell_type": "markdown",
   "metadata": {},
   "source": [
    "## Environment"
   ]
  },
  {
   "cell_type": "code",
   "execution_count": 2,
   "metadata": {},
   "outputs": [
    {
     "name": "stdout",
     "output_type": "stream",
     "text": [
      "Environment: MountainCar-v0\n",
      "\n",
      "Observation Space:  Box(2,)\n",
      "\n",
      "Action Space:  Discrete(3)\n",
      "{0: Accelerate to left\n",
      " 1: Don’t accelerate\n",
      " 2: Accelerate to right}\n",
      "\n",
      "Maximum Episode Steps: 200\n",
      "\n",
      "Bins:  120\n",
      "\n",
      "Discretization Details:\n",
      "Position: -1.2 to 0.6 \t Bin Size: 0.014999999999999998\n",
      "Velocity: -0.07 to 0.07\t Bin Size: 0.0011666666666666668\n",
      "\n",
      "\n",
      "A step in the environment:  (array([-0.52415953,  0.00101179]), -1.0, False, {})\n",
      "\n",
      "\n",
      "Rendered Environment: \n"
     ]
    },
    {
     "data": {
      "image/png": "[encoded data removed]",
      "text/plain": [
       "<Figure size 640x480 with 1 Axes>"
      ]
     },
     "metadata": {},
     "output_type": "display_data"
    }
   ],
   "source": [
    "# Mountain Car environment\n",
    "env = gym.make('MountainCar-v0')\n",
    "env.seed(42)\n",
    "print('Environment: MountainCar-v0')\n",
    "print('\\nObservation Space: ', env.observation_space)\n",
    "print('\\nAction Space: ', env.action_space)\n",
    "print('{0: Accelerate to left\\n 1: Don’t accelerate\\n 2: Accelerate to right}')\n",
    "\n",
    "# environment information\n",
    "e = env.env\n",
    "discretization = 120    # number of bins\n",
    "\n",
    "# discretize state space\n",
    "xmin = e.min_position                         # min value for position\n",
    "xmax = e.max_position                         # max value for position\n",
    "x_binsize = (xmax - xmin) / discretization    # size of each bin in the discretized space\n",
    "\n",
    "vmin = -1 * e.max_speed                       # min value for velocity\n",
    "vmax = e.max_speed                            # max value for velocity\n",
    "v_binsize = (vmax - vmin) / discretization\n",
    "\n",
    "print(\"\\nMaximum Episode Steps:\", env._max_episode_steps)\n",
    "print(\"\\nBins: \", discretization)\n",
    "print(\"\\nDiscretization Details:\")\n",
    "print(f\"Position: {xmin} to {xmax} \\t Bin Size: {x_binsize}\")\n",
    "print(f\"Velocity: {vmin} to {vmax}\\t Bin Size: {v_binsize}\")\n",
    "env.reset()\n",
    "print('\\n\\nA step in the environment: ', env.step(2))\n",
    "print('\\n\\nRendered Environment: ')\n",
    "env.reset()\n",
    "plt.axis('off')\n",
    "plt.imshow(env.render(mode='rgb_array'))\n",
    "env.close()\n",
    "plt.show()"
   ]
  },
  {
   "cell_type": "markdown",
   "metadata": {},
   "source": [
    "## Training Expert (Q Learning)"
   ]
  },
  {
   "cell_type": "code",
   "execution_count": 3,
   "metadata": {},
   "outputs": [
    {
     "name": "stderr",
     "output_type": "stream",
     "text": [
      "Training agent..:   0%|                      | 44/20000 [00:03<16:32, 20.11it/s]"
     ]
    },
    {
     "name": "stdout",
     "output_type": "stream",
     "text": [
      "Episode: 0 \t Steps: 200 \t Score: -200.0\n"
     ]
    },
    {
     "name": "stderr",
     "output_type": "stream",
     "text": [
      "Training agent..:  10%|██                  | 2036/20000 [00:15<09:23, 31.91it/s]"
     ]
    },
    {
     "name": "stdout",
     "output_type": "stream",
     "text": [
      "Episode: 2000 \t Steps: 200 \t Score: -200.0\n"
     ]
    },
    {
     "name": "stderr",
     "output_type": "stream",
     "text": [
      "Training agent..:  20%|████                | 4027/20000 [00:26<10:39, 25.00it/s]"
     ]
    },
    {
     "name": "stdout",
     "output_type": "stream",
     "text": [
      "Episode: 4000 \t Steps: 200 \t Score: -200.0\n"
     ]
    },
    {
     "name": "stderr",
     "output_type": "stream",
     "text": [
      "Training agent..:  30%|██████              | 6048/20000 [00:37<05:48, 39.98it/s]"
     ]
    },
    {
     "name": "stdout",
     "output_type": "stream",
     "text": [
      "Episode: 6000 \t Steps: 200 \t Score: -200.0\n"
     ]
    },
    {
     "name": "stderr",
     "output_type": "stream",
     "text": [
      "Training agent..:  40%|████████            | 8033/20000 [00:48<05:47, 34.45it/s]"
     ]
    },
    {
     "name": "stdout",
     "output_type": "stream",
     "text": [
      "Episode: 8000 \t Steps: 200 \t Score: -200.0\n"
     ]
    },
    {
     "name": "stderr",
     "output_type": "stream",
     "text": [
      "Training agent..:  50%|█████████▌         | 10025/20000 [00:59<06:07, 27.14it/s]"
     ]
    },
    {
     "name": "stdout",
     "output_type": "stream",
     "text": [
      "Episode: 10000 \t Steps: 200 \t Score: -200.0\n"
     ]
    },
    {
     "name": "stderr",
     "output_type": "stream",
     "text": [
      "Training agent..:  60%|███████████▍       | 12033/20000 [01:10<04:12, 31.59it/s]"
     ]
    },
    {
     "name": "stdout",
     "output_type": "stream",
     "text": [
      "Episode: 12000 \t Steps: 200 \t Score: -200.0\n"
     ]
    },
    {
     "name": "stderr",
     "output_type": "stream",
     "text": [
      "Training agent..:  70%|█████████████▎     | 14035/20000 [01:21<02:56, 33.85it/s]"
     ]
    },
    {
     "name": "stdout",
     "output_type": "stream",
     "text": [
      "Episode: 14000 \t Steps: 200 \t Score: -200.0\n"
     ]
    },
    {
     "name": "stderr",
     "output_type": "stream",
     "text": [
      "Training agent..:  80%|███████████████▏   | 16046/20000 [01:32<02:01, 32.45it/s]"
     ]
    },
    {
     "name": "stdout",
     "output_type": "stream",
     "text": [
      "Episode: 16000 \t Steps: 200 \t Score: -200.0\n"
     ]
    },
    {
     "name": "stderr",
     "output_type": "stream",
     "text": [
      "Training agent..:  90%|█████████████████▏ | 18068/20000 [01:42<00:42, 45.37it/s]"
     ]
    },
    {
     "name": "stdout",
     "output_type": "stream",
     "text": [
      "Episode: 18000 \t Steps: 200 \t Score: -200.0\n"
     ]
    },
    {
     "name": "stderr",
     "output_type": "stream",
     "text": [
      "Training agent..: 100%|██████████████████| 20000/20000 [01:50<00:00, 181.47it/s]\n"
     ]
    }
   ],
   "source": [
    "alpha = 0.1     # learning rate\n",
    "gamma = 0.99    # discount rate\n",
    "epsilon = 0.1   # exploration rate\n",
    "\n",
    "Q = mc_funcs.Q_learning_train(env, discretization, epsilon, alpha, gamma, max_episodes=20000, \n",
    "                     save=True, video_path='../Results/Mountain Car/mountain_car_training')"
   ]
  },
  {
   "cell_type": "code",
   "execution_count": 4,
   "metadata": {},
   "outputs": [
    {
     "name": "stdout",
     "output_type": "stream",
     "text": [
      "Saved Q Table\n"
     ]
    }
   ],
   "source": [
    "# Saving Q_optim\n",
    "file_path = './data/Q_opt.pkl'\n",
    "with open(file_path, 'wb') as file:\n",
    "    pickle.dump(Q, file)\n",
    "    print('Saved Q Table')"
   ]
  },
  {
   "cell_type": "code",
   "execution_count": 3,
   "metadata": {},
   "outputs": [
    {
     "name": "stdout",
     "output_type": "stream",
     "text": [
      "Loaded Q Table\n"
     ]
    }
   ],
   "source": [
    "file_path = './data/Q_opt.pkl'\n",
    "with open(file_path, 'rb') as file:\n",
    "    Q = pickle.load(file)\n",
    "    print('Loaded Q Table')"
   ]
  },
  {
   "cell_type": "code",
   "execution_count": 6,
   "metadata": {
    "scrolled": false
   },
   "outputs": [
    {
     "data": {
      "image/gif": "[encoded data removed]",
      "text/plain": [
       "<IPython.core.display.Image object>"
      ]
     },
     "metadata": {},
     "output_type": "display_data"
    }
   ],
   "source": [
    "# Rendering trained Q-learning agent's performance in the environment\n",
    "\n",
    "mc_funcs.render_agent(env, Q, render_filename='../Results/Mountain Car/Render')"
   ]
  },
  {
   "cell_type": "markdown",
   "metadata": {
    "id": "SS6FxWBp0RU8"
   },
   "source": [
    "# Inverse Reinforcement Learning"
   ]
  },
  {
   "cell_type": "markdown",
   "metadata": {},
   "source": [
    "## Basis Functions"
   ]
  },
  {
   "cell_type": "code",
   "execution_count": 4,
   "metadata": {},
   "outputs": [],
   "source": [
    "# function to generate set of evenly spaced basis functions\n",
    "\n",
    "def generate_basis_functions(num_of_basis, min_value, max_value):\n",
    "    basis_bin = (max_value - min_value) / (num_of_basis - 1)\n",
    "    basis = [min_value + basis_bin * i for i in range(num_of_basis - 1)] + [max_value]\n",
    "    return basis"
   ]
  },
  {
   "cell_type": "code",
   "execution_count": 5,
   "metadata": {},
   "outputs": [
    {
     "name": "stdout",
     "output_type": "stream",
     "text": [
      "\n",
      "Generated basis functions for linear approximation:\n",
      "\n",
      " [-1.2, -1.128, -1.056, -0.984, -0.9119999999999999, -0.84, -0.768, -0.696, -0.624, -0.552, -0.48, -0.40800000000000003, -0.3360000000000001, -0.264, -0.19199999999999995, -0.1200000000000001, -0.04800000000000004, 0.02400000000000002, 0.09599999999999986, 0.16799999999999993, 0.24, 0.31199999999999983, 0.3839999999999999, 0.45599999999999996, 0.5279999999999998, 0.6]\n"
     ]
    }
   ],
   "source": [
    "num_of_basis = 26\n",
    "basis = generate_basis_functions(num_of_basis, min_value=xmin, max_value=0.6)\n",
    "\n",
    "# each value in the list corresponds to the starting point of a basis function\n",
    "print('\\nGenerated basis functions for linear approximation:\\n\\n', basis)"
   ]
  },
  {
   "cell_type": "markdown",
   "metadata": {},
   "source": [
    "## Value Functions"
   ]
  },
  {
   "cell_type": "code",
   "execution_count": 6,
   "metadata": {},
   "outputs": [],
   "source": [
    "# function for calculating the probability density function (PDF) of a normal distribution\n",
    "\n",
    "def get_pdf(x, mean, std_dev):\n",
    "    z = (x - mean) / std_dev\n",
    "    pdf = (exp(-(z**2) / 2) / (sqrt(2 * pi) * std_dev))\n",
    "    return pdf"
   ]
  },
  {
   "cell_type": "code",
   "execution_count": 7,
   "metadata": {},
   "outputs": [],
   "source": [
    "# calculate the value function through Q Learning\n",
    "\n",
    "def get_value_function(Q, mean, scale, num, alpha=0.1, gamma=0.99, epsilon=0.05, \n",
    "                       max_episodes=10000, save_path='./data/V'):\n",
    "\n",
    "    V = [[0 for _ in range(120)] for _ in range(120)]\n",
    "\n",
    "    for episode in tqdm(range(max_episodes), desc=f'Calculating Value Function {i}..'):\n",
    "        obs = env.reset()\n",
    "\n",
    "        while True:\n",
    "            x, v = mc_funcs.get_state(obs)\n",
    "            a = np.argmax(np.array(Q[x][v]))\n",
    "\n",
    "            obs, R, done, info = env.step(a)\n",
    "            R = get_pdf(x, mean, scale)\n",
    "\n",
    "            x1, v1 = mc_funcs.get_state(obs)  # get next state (x1, v1)\n",
    "\n",
    "            V[x][v] += alpha * (R + gamma * V[x1][v1] - V[x][v])  # V(x, v) ← V(x, v) + α * (R + γ * V(x', v') - V(x, v))\n",
    "\n",
    "            if done:\n",
    "                break\n",
    "\n",
    "    # Save the value function\n",
    "    if save_path:\n",
    "        index_str = str(num).zfill(2)\n",
    "        with open(f'{save_path}{index_str}.pkl', 'wb') as file:\n",
    "            pickle.dump(V, file)\n",
    "            print(f'Saved V{index_str}.pkl')\n",
    "\n",
    "    return V"
   ]
  },
  {
   "cell_type": "code",
   "execution_count": 8,
   "metadata": {
    "id": "KhxGpXkz1ZfR",
    "scrolled": false
   },
   "outputs": [
    {
     "name": "stderr",
     "output_type": "stream",
     "text": [
      "Calculating Value Function 0..: 100%|████| 10000/10000 [00:38<00:00, 261.39it/s]\n"
     ]
    },
    {
     "name": "stdout",
     "output_type": "stream",
     "text": [
      "Saved ./data/V00.pkl\n"
     ]
    },
    {
     "name": "stderr",
     "output_type": "stream",
     "text": [
      "Calculating Value Function 1..: 100%|████| 10000/10000 [00:38<00:00, 259.30it/s]\n"
     ]
    },
    {
     "name": "stdout",
     "output_type": "stream",
     "text": [
      "Saved ./data/V01.pkl\n"
     ]
    },
    {
     "name": "stderr",
     "output_type": "stream",
     "text": [
      "Calculating Value Function 2..: 100%|████| 10000/10000 [00:38<00:00, 258.26it/s]\n"
     ]
    },
    {
     "name": "stdout",
     "output_type": "stream",
     "text": [
      "Saved ./data/V02.pkl\n"
     ]
    },
    {
     "name": "stderr",
     "output_type": "stream",
     "text": [
      "Calculating Value Function 3..: 100%|████| 10000/10000 [00:39<00:00, 252.06it/s]\n"
     ]
    },
    {
     "name": "stdout",
     "output_type": "stream",
     "text": [
      "Saved ./data/V03.pkl\n"
     ]
    },
    {
     "name": "stderr",
     "output_type": "stream",
     "text": [
      "Calculating Value Function 4..: 100%|████| 10000/10000 [00:39<00:00, 250.95it/s]\n"
     ]
    },
    {
     "name": "stdout",
     "output_type": "stream",
     "text": [
      "Saved ./data/V04.pkl\n"
     ]
    },
    {
     "name": "stderr",
     "output_type": "stream",
     "text": [
      "Calculating Value Function 5..: 100%|████| 10000/10000 [00:42<00:00, 233.50it/s]\n"
     ]
    },
    {
     "name": "stdout",
     "output_type": "stream",
     "text": [
      "Saved ./data/V05.pkl\n"
     ]
    },
    {
     "name": "stderr",
     "output_type": "stream",
     "text": [
      "Calculating Value Function 6..: 100%|████| 10000/10000 [00:49<00:00, 203.59it/s]\n"
     ]
    },
    {
     "name": "stdout",
     "output_type": "stream",
     "text": [
      "Saved ./data/V06.pkl\n"
     ]
    },
    {
     "name": "stderr",
     "output_type": "stream",
     "text": [
      "Calculating Value Function 7..: 100%|████| 10000/10000 [00:49<00:00, 201.42it/s]\n"
     ]
    },
    {
     "name": "stdout",
     "output_type": "stream",
     "text": [
      "Saved ./data/V07.pkl\n"
     ]
    },
    {
     "name": "stderr",
     "output_type": "stream",
     "text": [
      "Calculating Value Function 8..: 100%|████| 10000/10000 [00:46<00:00, 213.17it/s]\n"
     ]
    },
    {
     "name": "stdout",
     "output_type": "stream",
     "text": [
      "Saved ./data/V08.pkl\n"
     ]
    },
    {
     "name": "stderr",
     "output_type": "stream",
     "text": [
      "Calculating Value Function 9..: 100%|████| 10000/10000 [00:38<00:00, 261.40it/s]\n"
     ]
    },
    {
     "name": "stdout",
     "output_type": "stream",
     "text": [
      "Saved ./data/V09.pkl\n"
     ]
    },
    {
     "name": "stderr",
     "output_type": "stream",
     "text": [
      "Calculating Value Function 10..: 100%|███| 10000/10000 [00:36<00:00, 271.79it/s]\n"
     ]
    },
    {
     "name": "stdout",
     "output_type": "stream",
     "text": [
      "Saved ./data/V10.pkl\n"
     ]
    },
    {
     "name": "stderr",
     "output_type": "stream",
     "text": [
      "Calculating Value Function 11..: 100%|███| 10000/10000 [00:37<00:00, 265.66it/s]\n"
     ]
    },
    {
     "name": "stdout",
     "output_type": "stream",
     "text": [
      "Saved ./data/V11.pkl\n"
     ]
    },
    {
     "name": "stderr",
     "output_type": "stream",
     "text": [
      "Calculating Value Function 12..: 100%|███| 10000/10000 [00:36<00:00, 275.54it/s]\n"
     ]
    },
    {
     "name": "stdout",
     "output_type": "stream",
     "text": [
      "Saved ./data/V12.pkl\n"
     ]
    },
    {
     "name": "stderr",
     "output_type": "stream",
     "text": [
      "Calculating Value Function 13..: 100%|███| 10000/10000 [00:36<00:00, 272.14it/s]\n"
     ]
    },
    {
     "name": "stdout",
     "output_type": "stream",
     "text": [
      "Saved ./data/V13.pkl\n"
     ]
    },
    {
     "name": "stderr",
     "output_type": "stream",
     "text": [
      "Calculating Value Function 14..: 100%|███| 10000/10000 [00:36<00:00, 271.08it/s]\n"
     ]
    },
    {
     "name": "stdout",
     "output_type": "stream",
     "text": [
      "Saved ./data/V14.pkl\n"
     ]
    },
    {
     "name": "stderr",
     "output_type": "stream",
     "text": [
      "Calculating Value Function 15..: 100%|███| 10000/10000 [00:35<00:00, 281.30it/s]\n"
     ]
    },
    {
     "name": "stdout",
     "output_type": "stream",
     "text": [
      "Saved ./data/V15.pkl\n"
     ]
    },
    {
     "name": "stderr",
     "output_type": "stream",
     "text": [
      "Calculating Value Function 16..: 100%|███| 10000/10000 [00:35<00:00, 284.00it/s]\n"
     ]
    },
    {
     "name": "stdout",
     "output_type": "stream",
     "text": [
      "Saved ./data/V16.pkl\n"
     ]
    },
    {
     "name": "stderr",
     "output_type": "stream",
     "text": [
      "Calculating Value Function 17..: 100%|███| 10000/10000 [00:35<00:00, 285.08it/s]\n"
     ]
    },
    {
     "name": "stdout",
     "output_type": "stream",
     "text": [
      "Saved ./data/V17.pkl\n"
     ]
    },
    {
     "name": "stderr",
     "output_type": "stream",
     "text": [
      "Calculating Value Function 18..: 100%|███| 10000/10000 [00:36<00:00, 272.62it/s]\n"
     ]
    },
    {
     "name": "stdout",
     "output_type": "stream",
     "text": [
      "Saved ./data/V18.pkl\n"
     ]
    },
    {
     "name": "stderr",
     "output_type": "stream",
     "text": [
      "Calculating Value Function 19..: 100%|███| 10000/10000 [00:37<00:00, 265.99it/s]\n"
     ]
    },
    {
     "name": "stdout",
     "output_type": "stream",
     "text": [
      "Saved ./data/V19.pkl\n"
     ]
    },
    {
     "name": "stderr",
     "output_type": "stream",
     "text": [
      "Calculating Value Function 20..: 100%|███| 10000/10000 [00:43<00:00, 228.45it/s]\n"
     ]
    },
    {
     "name": "stdout",
     "output_type": "stream",
     "text": [
      "Saved ./data/V20.pkl\n"
     ]
    },
    {
     "name": "stderr",
     "output_type": "stream",
     "text": [
      "Calculating Value Function 21..: 100%|███| 10000/10000 [00:36<00:00, 273.77it/s]\n"
     ]
    },
    {
     "name": "stdout",
     "output_type": "stream",
     "text": [
      "Saved ./data/V21.pkl\n"
     ]
    },
    {
     "name": "stderr",
     "output_type": "stream",
     "text": [
      "Calculating Value Function 22..: 100%|███| 10000/10000 [00:36<00:00, 271.59it/s]\n"
     ]
    },
    {
     "name": "stdout",
     "output_type": "stream",
     "text": [
      "Saved ./data/V22.pkl\n"
     ]
    },
    {
     "name": "stderr",
     "output_type": "stream",
     "text": [
      "Calculating Value Function 23..: 100%|███| 10000/10000 [00:38<00:00, 261.24it/s]\n"
     ]
    },
    {
     "name": "stdout",
     "output_type": "stream",
     "text": [
      "Saved ./data/V23.pkl\n"
     ]
    },
    {
     "name": "stderr",
     "output_type": "stream",
     "text": [
      "Calculating Value Function 24..: 100%|███| 10000/10000 [00:36<00:00, 275.06it/s]\n"
     ]
    },
    {
     "name": "stdout",
     "output_type": "stream",
     "text": [
      "Saved ./data/V24.pkl\n"
     ]
    },
    {
     "name": "stderr",
     "output_type": "stream",
     "text": [
      "Calculating Value Function 25..: 100%|███| 10000/10000 [00:37<00:00, 269.23it/s]"
     ]
    },
    {
     "name": "stdout",
     "output_type": "stream",
     "text": [
      "Saved ./data/V25.pkl\n"
     ]
    },
    {
     "name": "stderr",
     "output_type": "stream",
     "text": [
      "\n"
     ]
    }
   ],
   "source": [
    "# calculate the value function for each basis function using Q-learning\n",
    "\n",
    "for i in range(0, num_of_basis):\n",
    "    get_value_function(Q, mean=basis[i], scale=0.5, num=i)"
   ]
  },
  {
   "cell_type": "code",
   "execution_count": 8,
   "metadata": {},
   "outputs": [
    {
     "name": "stdout",
     "output_type": "stream",
     "text": [
      "Loaded Value Functions.\n"
     ]
    }
   ],
   "source": [
    "V = []\n",
    "load_path = './data/V'\n",
    "\n",
    "for i in range(num_of_basis):\n",
    "    index_str = str(i).zfill(2)\n",
    "    with open(f'{load_path}{index_str}.pkl', 'rb') as file:\n",
    "        V.append(pickle.load(file))\n",
    "print('Loaded Value Functions.')"
   ]
  },
  {
   "cell_type": "markdown",
   "metadata": {},
   "source": [
    "## Sampling"
   ]
  },
  {
   "cell_type": "code",
   "execution_count": 9,
   "metadata": {},
   "outputs": [],
   "source": [
    "# function to sample states\n",
    "\n",
    "def get_sample_states(sample_trajs):\n",
    "    sample_states_x = random.sample(range(120), sample_trajs)\n",
    "    sample_states_v = random.sample(range(120), sample_trajs)\n",
    "\n",
    "    sample_states_x.sort()\n",
    "    sample_states_v.sort()\n",
    "\n",
    "    S = [[i, j] for i in sample_states_x for j in sample_states_v]\n",
    "\n",
    "    return S"
   ]
  },
  {
   "cell_type": "code",
   "execution_count": 10,
   "metadata": {
    "colab": {
     "base_uri": "https://localhost:8080/"
    },
    "id": "StLBOsPi5bQG",
    "outputId": "98e91be6-5ced-4bdc-d512-c80c41ab77cd"
   },
   "outputs": [
    {
     "name": "stdout",
     "output_type": "stream",
     "text": [
      "2500\n"
     ]
    }
   ],
   "source": [
    "trj = 50\n",
    "\n",
    "S0 = get_sample_states(trj)\n",
    "\n",
    "print(len(S0))"
   ]
  },
  {
   "cell_type": "code",
   "execution_count": 11,
   "metadata": {},
   "outputs": [],
   "source": [
    "# function to get next state\n",
    "\n",
    "def get_next_state(s, a):\n",
    "    x = x_binsize * s[0] + xmin   # discretized state to continuous state\n",
    "    v = v_binsize * s[1] + vmin\n",
    "\n",
    "    env.reset()\n",
    "    env.env.state = (x,v)  # current state\n",
    "    \n",
    "    obs, R, done, info = env.step(a)   # next state\n",
    "\n",
    "    return mc_funcs.get_state(obs)          # continuous to discrete"
   ]
  },
  {
   "cell_type": "markdown",
   "metadata": {},
   "source": [
    "## Linear Programming IRL Algorithm"
   ]
  },
  {
   "cell_type": "code",
   "execution_count": 12,
   "metadata": {},
   "outputs": [],
   "source": [
    "def large_state_space_irl(Q, V, S0, num_of_basis, verbose=1):\n",
    "    \"\"\"\n",
    "    Performs Linear Programming to calculate alphas for a linear combination of basis functions.\n",
    "\n",
    "    Parameters:\n",
    "    - Q: Q-values for the given states\n",
    "    - V: Value function\n",
    "    - S0: Sampled States\n",
    "    - num_of_basis: Number of basis functions\n",
    "\n",
    "    Returns:\n",
    "    - alphas: List of calculated alphas\n",
    "    \"\"\"\n",
    "\n",
    "    # LP to calculate alphas for a linear combination of basis functions\n",
    "    alphas = None\n",
    "    \n",
    "    c = [0]*(num_of_basis)\n",
    "    \n",
    "    bound=[(-1,1) for i in range(num_of_basis)]\n",
    "\n",
    "    for i in range(len(S0)):\n",
    "\n",
    "        a = np.argmax(np.array(Q[S0[i][0]][S0[i][1]]))  # optimal action\n",
    "        actions=[0,1,2]\n",
    "        actions.remove(a)\n",
    "        r = random.randint(0,1)\n",
    "        a2 = actions[r]            # random non optimal action\n",
    "\n",
    "        s = get_next_state(S0[i], a)\n",
    "        s2 = get_next_state(S0[i], a2)\n",
    "\n",
    "        # Calculate temporal differences for each basis function V[j] and update c.\n",
    "        for j in range(num_of_basis):\n",
    "            tmpV = V[j][s2[0]][s2[1]] - V[j][s[0]][s[1]]\n",
    "            if tmpV>0:\n",
    "                tmpV *= 1.85\n",
    "            c[j] += tmpV\n",
    "    \n",
    "    # Solve LP\n",
    "    result=linprog(c,bounds=bound)\n",
    "    alphas=result['x']\n",
    "    \n",
    "    if verbose==1:\n",
    "        print('\\nAlphas: ', alphas)\n",
    "    if verbose==2:\n",
    "        print('\\nCoefficients: ', c)\n",
    "        print('\\nAlphas: ', alphas)\n",
    "    if verbose==3:\n",
    "        print('\\nResult: ', result)\n",
    "        print('\\nCoefficients: ', c)\n",
    "        print('\\nAlphas: ', alphas)\n",
    "\n",
    "    return alphas"
   ]
  },
  {
   "cell_type": "code",
   "execution_count": 13,
   "metadata": {
    "scrolled": false
   },
   "outputs": [
    {
     "name": "stdout",
     "output_type": "stream",
     "text": [
      "\n",
      "Alphas:  [-1. -1. -1. -1. -1. -1. -1. -1. -1. -1. -1. -1. -1. -1. -1. -1. -1. -1.\n",
      " -1. -1. -1. -1. -1. -1. -1. -1.]\n"
     ]
    }
   ],
   "source": [
    "alphas = large_state_space_irl(Q, V, S0, num_of_basis)"
   ]
  },
  {
   "cell_type": "markdown",
   "metadata": {},
   "source": [
    "### Plot Reward Function"
   ]
  },
  {
   "cell_type": "code",
   "execution_count": 14,
   "metadata": {},
   "outputs": [],
   "source": [
    "import matplotlib.pyplot as plt\n",
    "\n",
    "def plot_fitted_reward(alphas, basis, xmin, xmax, x_binsize, std=0.05, filename=None):\n",
    "    x = xmin\n",
    "\n",
    "    X = [x for x in np.arange(xmin, xmax + x_binsize, x_binsize)]\n",
    "    R = [sum(alphas[k] * get_pdf(x, basis[k], std) for k in range(len(basis))) for x in X]\n",
    "    \n",
    "    plt.figure(figsize=(9,7))\n",
    "    plt.xlabel(\"Car's x-position\")\n",
    "    plt.ylabel(\"Fitted Reward\")\n",
    "    plt.title(\"Reward Graph of Mountain Car\")\n",
    "    plt.plot(X, R)\n",
    "    \n",
    "    if filename:\n",
    "        plt.savefig(filename, bbox_inches='tight', pad_inches=0.2)\n",
    "        \n",
    "    plt.show()"
   ]
  },
  {
   "cell_type": "code",
   "execution_count": 15,
   "metadata": {
    "scrolled": false
   },
   "outputs": [
    {
     "data": {
      "image/png": "[encoded data removed]",
      "text/plain": [
       "<Figure size 900x700 with 1 Axes>"
      ]
     },
     "metadata": {},
     "output_type": "display_data"
    }
   ],
   "source": [
    "plot_fitted_reward(alphas, basis, xmin, xmax, x_binsize, std=0.05, \n",
    "                   filename='../Results/Mountain Car/Reward Function [Obtained from Expert].png')"
   ]
  }
 ],
 "metadata": {
  "colab": {
   "provenance": []
  },
  "kernelspec": {
   "display_name": "Python 3 (ipykernel)",
   "language": "python",
   "name": "python3"
  },
  "language_info": {
   "codemirror_mode": {
    "name": "ipython",
    "version": 3
   },
   "file_extension": ".py",
   "mimetype": "text/x-python",
   "name": "python",
   "nbconvert_exporter": "python",
   "pygments_lexer": "ipython3",
   "version": "3.10.12"
  }
 },
 "nbformat": 4,
 "nbformat_minor": 1
}
