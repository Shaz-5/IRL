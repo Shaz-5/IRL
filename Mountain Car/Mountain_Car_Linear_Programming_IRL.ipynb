{
  "nbformat": 4,
  "nbformat_minor": 0,
  "metadata": {
    "colab": {
      "provenance": []
    },
    "kernelspec": {
      "name": "python3",
      "display_name": "Python 3"
    },
    "language_info": {
      "name": "python"
    }
  },
  "cells": [
    {
      "cell_type": "code",
      "execution_count": 8,
      "metadata": {
        "id": "nnOSS5IiuJ84"
      },
      "outputs": [],
      "source": [
        "import pickle,random\n",
        "import numpy as np\n",
        "import gym\n",
        "from scipy.optimize import linprog\n",
        "from math import exp,pi,sqrt\n",
        "import matplotlib.pyplot as plt\n",
        "import mountain_car"
      ]
    },
    {
      "cell_type": "code",
      "source": [
        "# function to sample states\n",
        "\n",
        "def get_sample_states(sample_trajs):\n",
        "    sample_states_x = []\n",
        "    sample_states_v = []\n",
        "    x_range = list(range(113))\n",
        "\n",
        "    # Sample x states\n",
        "    for _ in range(sample_trajs):\n",
        "        k = random.choice(x_range)\n",
        "        x_range.remove(k)\n",
        "        sample_states_x.append(k)\n",
        "\n",
        "    v_range = list(range(120))\n",
        "    # Sample v states\n",
        "    for _ in range(sample_trajs):\n",
        "        k = random.choice(v_range)\n",
        "        v_range.remove(k)\n",
        "        sample_states_v.append(k)\n",
        "\n",
        "    sample_states_x.sort()\n",
        "    sample_states_v.sort()\n",
        "\n",
        "    S = []\n",
        "    for i in sample_states_x:\n",
        "        for j in sample_states_v:\n",
        "            S.append([i, j])\n",
        "\n",
        "    return S"
      ],
      "metadata": {
        "id": "QNWCX5CBuQh9"
      },
      "execution_count": 3,
      "outputs": []
    },
    {
      "cell_type": "code",
      "source": [
        "# function to get next state\n",
        "\n",
        "def get_next_state(s, a):\n",
        "    x = x_binsize * s[0] + xmin   # discretized state to continuous state\n",
        "    v = v_binsize * s[1] + vmin\n",
        "    # print(x, v)\n",
        "    env.reset()\n",
        "    obs, R, done, info = env.step(a)\n",
        "\n",
        "    return mountain_car.get_state(obs)          # continuous to discrete"
      ],
      "metadata": {
        "id": "Zsc9k7Z5zg69"
      },
      "execution_count": 4,
      "outputs": []
    },
    {
      "cell_type": "code",
      "source": [
        "# environment initialization\n",
        "\n",
        "random.seed(0)\n",
        "env = gym.make('MountainCar-v0')\n",
        "\n",
        "e = env.env\n",
        "discretization = 120\n",
        "xmin = e.min_position\n",
        "xmax = e.max_position\n",
        "x_binsize = (xmax - xmin) / discretization\n",
        "\n",
        "vmin = -1 * e.max_speed\n",
        "vmax = e.max_speed\n",
        "v_binsize = (vmax - vmin) / discretization"
      ],
      "metadata": {
        "id": "0wQqDcz_0K_j"
      },
      "execution_count": 5,
      "outputs": []
    },
    {
      "cell_type": "code",
      "source": [
        "file_path = 'Q_opt.pkl'\n",
        "# file_path = 'Data\\\\Q_Opt1'\n",
        "\n",
        "with open(file_path, 'rb') as file:\n",
        "    Q = pickle.load(file)"
      ],
      "metadata": {
        "id": "SS6FxWBp0RU8"
      },
      "execution_count": 6,
      "outputs": []
    },
    {
      "cell_type": "code",
      "source": [
        "# print(Q)\n",
        "\n",
        "# basis functions\n",
        "num_of_basis = 26\n",
        "scale = 0.5\n",
        "basis_bin = (0.5 + 1.2) / (num_of_basis - 1)\n",
        "basis = [-1.2 + basis_bin * i for i in range(num_of_basis - 1)] + [0.5]\n",
        "print('Basis:', basis)"
      ],
      "metadata": {
        "id": "Ac39Hly9KzCT",
        "colab": {
          "base_uri": "https://localhost:8080/"
        },
        "outputId": "b5344df4-8a65-4931-b57a-7265e41f0a35"
      },
      "execution_count": 7,
      "outputs": [
        {
          "output_type": "stream",
          "name": "stdout",
          "text": [
            "Basis: [-1.2, -1.132, -1.064, -0.996, -0.9279999999999999, -0.8599999999999999, -0.7919999999999999, -0.724, -0.6559999999999999, -0.5879999999999999, -0.5199999999999999, -0.45199999999999996, -0.3839999999999999, -0.31599999999999984, -0.2479999999999999, -0.17999999999999994, -0.11199999999999988, -0.04399999999999982, 0.024000000000000243, 0.09200000000000008, 0.16000000000000014, 0.2280000000000002, 0.29600000000000004, 0.3640000000000001, 0.43200000000000016, 0.5]\n"
          ]
        }
      ]
    },
    {
      "cell_type": "code",
      "source": [
        "for i in range(0, num_of_basis):\n",
        "    mountain_car.get_value_function(Q, basis[i], scale, i)"
      ],
      "metadata": {
        "id": "KhxGpXkz1ZfR"
      },
      "execution_count": null,
      "outputs": []
    },
    {
      "cell_type": "code",
      "source": [
        "V = []\n",
        "\n",
        "for i in range(num_of_basis):\n",
        "    file_path = 'V' + str(i)\n",
        "    # file_path = 'Data\\\\V' + str(i)\n",
        "\n",
        "    with open(file_path, 'rb') as file:\n",
        "        V.append(pickle.load(file))\n",
        "\n",
        "print(len(V[0][0]))"
      ],
      "metadata": {
        "id": "XQW7KgC-3u-r",
        "colab": {
          "base_uri": "https://localhost:8080/"
        },
        "outputId": "3d68784b-2a4b-4350-825e-d9fd4a3da6ee"
      },
      "execution_count": 11,
      "outputs": [
        {
          "output_type": "stream",
          "name": "stdout",
          "text": [
            "120\n"
          ]
        }
      ]
    },
    {
      "cell_type": "code",
      "source": [
        "trj = 10\n",
        "S0 = get_sample_states(trj)\n",
        "print(len(S0))"
      ],
      "metadata": {
        "id": "StLBOsPi5bQG",
        "colab": {
          "base_uri": "https://localhost:8080/"
        },
        "outputId": "98e91be6-5ced-4bdc-d512-c80c41ab77cd"
      },
      "execution_count": 10,
      "outputs": [
        {
          "output_type": "stream",
          "name": "stdout",
          "text": [
            "100\n"
          ]
        }
      ]
    },
    {
      "cell_type": "code",
      "source": [
        "alphas=None\n",
        "\n",
        "# LP to calculate alphas for a linear combination of basis functions\n",
        "\n",
        "c = [0] * num_of_basis + [-1] * len(S0)\n",
        "bound = [(-1, 1) for i in range(num_of_basis)] + [(None, None) for j in range(len(S0))]\n",
        "A = [[0 for i in range(len(c))] for j in range(4 * len(S0))]      # constraints matrix\n",
        "b = [0 for j in range(4 * len(S0))]\n",
        "\n",
        "for i in range(len(S0)):\n",
        "    A[4 * i][num_of_basis + i] = 1\n",
        "    A[4 * i + 1][num_of_basis + i] = 1\n",
        "    A[4 * i + 2][num_of_basis + i] = 1\n",
        "    A[4 * i + 3][num_of_basis + i] = 1\n",
        "\n",
        "    a = np.argmax(np.array(Q[S0[i][0]][S0[i][1]]))\n",
        "    actions = [0, 1, 2]\n",
        "    actions.remove(a)\n",
        "    a2 = actions[0]     # alternating actions\n",
        "    a3 = actions[1]\n",
        "\n",
        "    s = get_next_state(S0[i], a)\n",
        "    s2 = get_next_state(S0[i], a2)\n",
        "    s3 = get_next_state(S0[i], a3)\n",
        "\n",
        "    fact = 3\n",
        "    for j in range(num_of_basis):\n",
        "        A[4 * i][j] = (-1 * V[j][s[0]][s[1]] + V[j][s2[0]][s2[1]]) / 10000\n",
        "        A[4 * i + 1][j] = fact * (-1 * V[j][s[0]][s[1]] + V[j][s2[0]][s2[1]]) / 10000\n",
        "        A[4 * i + 2][j] = (-1 * V[j][s[0]][s[1]] + V[j][s3[0]][s3[1]]) / 10000\n",
        "        A[4 * i + 3][j] = fact * (-1 * V[j][s[0]][s[1]] + V[j][s3[0]][s3[1]]) / 10000\n",
        "\n",
        "# Solve LP\n",
        "print(\"Solving LP..\")\n",
        "res = linprog(c, A_ub=A, b_ub=b, bounds=bound)\n",
        "print('Result: ', res)\n",
        "alphas = list(res['x'])\n",
        "alphas = alphas[:num_of_basis]\n",
        "print('Alphas: ', alphas)"
      ],
      "metadata": {
        "id": "OedflFEO6RiU",
        "colab": {
          "base_uri": "https://localhost:8080/"
        },
        "outputId": "0375e88f-f00d-4073-ddae-36dd4d1a72bf"
      },
      "execution_count": 12,
      "outputs": [
        {
          "output_type": "stream",
          "name": "stdout",
          "text": [
            "Solving LP..\n",
            "Result:          message: Optimization terminated successfully. (HiGHS Status 7: Optimal)\n",
            "        success: True\n",
            "         status: 0\n",
            "            fun: 0.0\n",
            "              x: [-1.000e+00 -1.000e+00 ... -0.000e+00 -0.000e+00]\n",
            "            nit: 0\n",
            "          lower:  residual: [ 0.000e+00  0.000e+00 ...        inf\n",
            "                                    inf]\n",
            "                 marginals: [ 0.000e+00  0.000e+00 ...  0.000e+00\n",
            "                              0.000e+00]\n",
            "          upper:  residual: [ 2.000e+00  2.000e+00 ...        inf\n",
            "                                    inf]\n",
            "                 marginals: [ 0.000e+00  0.000e+00 ...  0.000e+00\n",
            "                              0.000e+00]\n",
            "          eqlin:  residual: []\n",
            "                 marginals: []\n",
            "        ineqlin:  residual: [ 0.000e+00  0.000e+00 ...  0.000e+00\n",
            "                              0.000e+00]\n",
            "                 marginals: [-1.000e+00 -0.000e+00 ... -0.000e+00\n",
            "                             -0.000e+00]\n",
            " mip_node_count: 0\n",
            " mip_dual_bound: 0.0\n",
            "        mip_gap: 0.0\n",
            "Alphas:  [-1.0, -1.0, -1.0, -1.0, -1.0, -1.0, -1.0, -1.0, -1.0, -1.0, -1.0, -1.0, -1.0, -1.0, -1.0, -1.0, -1.0, -1.0, -1.0, -1.0, -1.0, -1.0, -1.0, -1.0, -1.0, -1.0]\n"
          ]
        }
      ]
    },
    {
      "cell_type": "code",
      "source": [
        "X = []\n",
        "R = []    # Rewards\n",
        "\n",
        "x = xmin\n",
        "std = 0.05\n",
        "\n",
        "while x <= xmax:\n",
        "    X.append(x)\n",
        "    rx = 0\n",
        "    for k in range(len(basis)):\n",
        "        rx += alphas[k] * mountain_car.calc_pdf(x, basis[k], std)\n",
        "    R.append(rx)\n",
        "\n",
        "    x += x_binsize\n",
        "\n",
        "\n",
        "plt.figure(1)\n",
        "plt.xlabel(\"Car's x-position\")\n",
        "plt.ylabel(\"Fitted Reward\")\n",
        "plt.title(\"Reward Graph of Mountain Car\")\n",
        "plt.plot(X, R)\n",
        "plt.show()"
      ],
      "metadata": {
        "id": "fbGBKAPzEjzB",
        "colab": {
          "base_uri": "https://localhost:8080/",
          "height": 472
        },
        "outputId": "025d7f59-ed0b-4c5b-c504-7da489da072f"
      },
      "execution_count": 13,
      "outputs": [
        {
          "output_type": "display_data",
          "data": {
            "text/plain": [
              "<Figure size 640x480 with 1 Axes>"
            ],
            "image/png": "[encoded data removed]"
          },
          "metadata": {}
        }
      ]
    }
  ]
}